{
 "cells": [
  {
   "cell_type": "code",
   "execution_count": null,
   "metadata": {},
   "outputs": [],
   "source": [
    "def add(x,y):\n",
    " return x + y\n",
    "\n",
    "def divide(x,y):\n",
    " return x / y\n",
    "\n",
    "def multiply(x,y):\n",
    " return x * y\n",
    "\n",
    "def subract(x,y):\n",
    " return x - y\n",
    "\n",
    "print(\"Welcome to Calculator\")\n",
    "\n",
    "print(\"\\nMain menu\")\n",
    "print(\"1. Addition\")\n",
    "print(\"2. Divide\")\n",
    "print(\"3. Multiply\")    \n",
    "print(\"4. Subraction\")\n",
    "\n",
    "choice=int(input(\"enter number1/2/3/4/\"))\n",
    "\n",
    "num1=int(input(\"enter first number\")) \n",
    "num2=int(input(\"enter second number\"))\n",
    "\n",
    "if choice == 1:\n",
    "  print(num1, \"+\" ,num2, \"=\",add(num1, num2)) \n",
    "elif choice == 2:\n",
    "  print(num1, \"/\" ,num2, \"=\",divide(num1, num2))  \n",
    "elif choice == 3:\n",
    "  print(num1, \"*\" ,num2, \"=\",multiply(num1, num2))         \n",
    "elif choice == 4:\n",
    "  print(num1, \"-\" ,num2, \"=\",subract(num1, num2))\n",
    "else:\n",
    " print(\"exit\")"
   ]
  }
 ],
 "metadata": {
  "language_info": {
   "name": "python"
  }
 },
 "nbformat": 4,
 "nbformat_minor": 2
}
