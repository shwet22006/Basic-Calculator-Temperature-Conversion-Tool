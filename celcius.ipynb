{
 "cells": [
  {
   "cell_type": "code",
   "execution_count": null,
   "metadata": {},
   "outputs": [],
   "source": [
    "print(\"/n menu\")\n",
    "print(\"1.celcius to fahrenheit\")\n",
    "print(\"2.fahrenheit to celcius\")\n",
    "print(\"3.Exit\")\n",
    "\n",
    "choice=int(input(\"enter number 1/2/3\"))\n",
    "\n",
    "if choice ==1:\n",
    " celsius =int(input(\"enter the temperature in celsius :\"))\n",
    "fahrenheit = (1.8 * celsius) + 32\n",
    "print(fahrenheit)\n",
    "\n",
    "if choice ==2:\n",
    " fahrenheit =(input(\"enter the temperature in fahrenheit :\"))\n",
    "celsius = (fahrenheit - 32) / 1.8\n",
    "print(celsius)\n",
    "\n",
    "if choice ==3:\n",
    " print(\"exit\")\n"
   ]
  }
 ],
 "metadata": {
  "language_info": {
   "name": "python"
  }
 },
 "nbformat": 4,
 "nbformat_minor": 2
}
